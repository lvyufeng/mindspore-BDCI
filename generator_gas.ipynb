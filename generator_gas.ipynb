{
 "cells": [
  {
   "cell_type": "markdown",
   "id": "3fad0069-8e2c-4689-9448-0132875a721d",
   "metadata": {},
   "source": [
    "使用MindSpore的GeneratorDataset和GAS配合的简单样例"
   ]
  },
  {
   "cell_type": "markdown",
   "id": "870db253-fbc9-4970-b781-f8756b1d0a4d",
   "metadata": {},
   "source": [
    "安装tensorbay："
   ]
  },
  {
   "cell_type": "code",
   "execution_count": null,
   "id": "368262be-7cdf-48b6-a650-7820cb16778e",
   "metadata": {},
   "outputs": [],
   "source": [
    "!pip install tensorbay"
   ]
  },
  {
   "cell_type": "code",
   "execution_count": 2,
   "id": "4e9ca57d-4694-4508-87af-78cb683cd13f",
   "metadata": {},
   "outputs": [],
   "source": [
    "import numpy as np\n",
    "from PIL import Image\n",
    "from tensorbay import GAS\n",
    "from tensorbay.dataset import Dataset\n",
    "import mindspore.dataset as ds"
   ]
  },
  {
   "cell_type": "markdown",
   "id": "59dbb70f-0b9f-43da-be3a-ce415871c9f4",
   "metadata": {},
   "source": [
    "使用GAS SDK访问数据集："
   ]
  },
  {
   "cell_type": "code",
   "execution_count": 3,
   "id": "62a87bf9-74ee-4c64-bc23-0273fccfa5ca",
   "metadata": {},
   "outputs": [
    {
     "data": {
      "text/plain": [
       "Dataset(\"RP2K\") [\n",
       "  Segment(\"test\") [...],\n",
       "  Segment(\"train\") [...]\n",
       "]"
      ]
     },
     "execution_count": 3,
     "metadata": {},
     "output_type": "execute_result"
    }
   ],
   "source": [
    "gas = GAS(\"Your Access Key\")\n",
    "dataset = Dataset(\"RP2K\", gas)\n",
    "dataset"
   ]
  },
  {
   "cell_type": "markdown",
   "id": "e017b786-16fc-433a-b699-ddcb3c4a1dc8",
   "metadata": {},
   "source": [
    "生成label字典："
   ]
  },
  {
   "cell_type": "code",
   "execution_count": 4,
   "id": "116ce2ec-cb5f-4803-8bd5-733c4a266bbf",
   "metadata": {},
   "outputs": [
    {
     "data": {
      "text/plain": [
       "2424"
      ]
     },
     "execution_count": 4,
     "metadata": {},
     "output_type": "execute_result"
    }
   ],
   "source": [
    "dataset_client = gas.get_dataset(\"RP2K\")\n",
    "statistics = dataset_client.get_label_statistics()\n",
    "statistics = statistics.dumps()\n",
    "categories = [i['name'] for i in statistics['CLASSIFICATION']['categories']]\n",
    "category_dict = {name: idx for idx, name in enumerate(categories)}\n",
    "len(category_dict)"
   ]
  },
  {
   "cell_type": "markdown",
   "id": "3c4943e3-ea69-426d-9b9f-49a4ada867e5",
   "metadata": {},
   "source": [
    "选择数据集(train/test)"
   ]
  },
  {
   "cell_type": "code",
   "execution_count": 5,
   "id": "58d27665-258d-48c8-b49f-35d58ba40592",
   "metadata": {},
   "outputs": [
    {
     "data": {
      "text/plain": [
       "Segment(\"test\") [\n",
       "  RemoteData(\"-1013482322316369151.jpg\")(...),\n",
       "  RemoteData(\"-1080441667073922393.jpg\")(...),\n",
       "  RemoteData(\"-1493574444992800688.jpg\")(...),\n",
       "  RemoteData(\"-1553082000360211978.jpg\")(...),\n",
       "  RemoteData(\"-1602115196667906420.jpg\")(...),\n",
       "  RemoteData(\"-1660766814815816162.jpg\")(...),\n",
       "  RemoteData(\"-1713888261473361265.jpg\")(...),\n",
       "  RemoteData(\"-1863960068078052738.jpg\")(...),\n",
       "  RemoteData(\"-1896647297294998436.jpg\")(...),\n",
       "  RemoteData(\"-1981790978490656488.jpg\")(...),\n",
       "  RemoteData(\"-2078593936457174218.jpg\")(...),\n",
       "  RemoteData(\"-2130423476235569574.jpg\")(...),\n",
       "  RemoteData(\"-2164004255165872026.jpg\")(...),\n",
       "  RemoteData(\"-2168295182164522597.jpg\")(...),\n",
       "  ... (39395 items are folded),\n",
       "  RemoteData(\"黄山松(醉翁亭).png\")(...)\n",
       "]"
      ]
     },
     "execution_count": 5,
     "metadata": {},
     "output_type": "execute_result"
    }
   ],
   "source": [
    "segment = dataset[\"test\"]\n",
    "segment"
   ]
  },
  {
   "cell_type": "markdown",
   "id": "c75ba162-3327-472b-81cf-f000de8595d7",
   "metadata": {},
   "source": [
    "自定义迭代器："
   ]
  },
  {
   "cell_type": "code",
   "execution_count": 6,
   "id": "896ec67c-992f-448e-9cce-2c47a4b8d517",
   "metadata": {},
   "outputs": [],
   "source": [
    "def generator_rp2k(segment, category_dict):\n",
    "    for data in segment:\n",
    "        category = data.label.classification.category\n",
    "        label = np.array(category_dict[category])\n",
    "        with data.open() as fp:\n",
    "            image = Image.open(fp)\n",
    "            img = np.array(image)\n",
    "        yield img, label\n",
    "        \n",
    "iterator = generator_rp2k(segment, category_dict)"
   ]
  },
  {
   "cell_type": "code",
   "execution_count": 7,
   "id": "f4b944dd-6fc8-41f6-94b7-85f503425cf0",
   "metadata": {},
   "outputs": [
    {
     "data": {
      "text/plain": [
       "(array([[[ 30,  30,  38],\n",
       "         [ 30,  30,  38],\n",
       "         [ 29,  29,  37],\n",
       "         ...,\n",
       "         [ 36,  37,  41],\n",
       "         [  9,  10,  12],\n",
       "         [  9,  10,  12]],\n",
       " \n",
       "        [[ 30,  30,  38],\n",
       "         [ 30,  30,  38],\n",
       "         [ 29,  29,  37],\n",
       "         ...,\n",
       "         [ 23,  24,  28],\n",
       "         [ 27,  28,  30],\n",
       "         [ 27,  28,  30]],\n",
       " \n",
       "        [[ 30,  30,  38],\n",
       "         [ 30,  30,  38],\n",
       "         [ 30,  30,  38],\n",
       "         ...,\n",
       "         [ 24,  25,  29],\n",
       "         [ 33,  34,  36],\n",
       "         [ 33,  34,  36]],\n",
       " \n",
       "        ...,\n",
       " \n",
       "        [[193, 193, 191],\n",
       "         [192, 192, 190],\n",
       "         [191, 191, 189],\n",
       "         ...,\n",
       "         [112,  52,  54],\n",
       "         [116,  56,  55],\n",
       "         [121,  61,  60]],\n",
       " \n",
       "        [[188, 188, 186],\n",
       "         [189, 189, 187],\n",
       "         [191, 191, 189],\n",
       "         ...,\n",
       "         [ 71,  29,  30],\n",
       "         [ 84,  36,  32],\n",
       "         [ 95,  47,  43]],\n",
       " \n",
       "        [[193, 193, 191],\n",
       "         [192, 192, 190],\n",
       "         [192, 192, 190],\n",
       "         ...,\n",
       "         [199, 175, 173],\n",
       "         [144, 109, 103],\n",
       "         [ 98,  63,  57]]], dtype=uint8),\n",
       " array(1217))"
      ]
     },
     "execution_count": 7,
     "metadata": {},
     "output_type": "execute_result"
    }
   ],
   "source": [
    "next(iterator)"
   ]
  },
  {
   "cell_type": "markdown",
   "id": "a6743db4-99d0-4456-80cd-44b113e64ae7",
   "metadata": {},
   "source": [
    "使用MindSpore的GeneratorDataset加载数据："
   ]
  },
  {
   "cell_type": "code",
   "execution_count": 8,
   "id": "9ad4d5bd-46e9-4ede-bdd1-6fe4254a793d",
   "metadata": {},
   "outputs": [],
   "source": [
    "dataset = ds.GeneratorDataset(source=iterator, column_names=[\"img\", \"label\"])"
   ]
  },
  {
   "cell_type": "code",
   "execution_count": 9,
   "id": "8903b0c2-5b9a-4878-8638-ea6c87cc5783",
   "metadata": {},
   "outputs": [
    {
     "data": {
      "text/plain": [
       "[Tensor(shape=[284, 128, 3], dtype=UInt8, value=\n",
       " [[[233, 128,  80],\n",
       "   [233, 128,  80],\n",
       "   [234, 129,  81],\n",
       "   ...\n",
       "   [217, 218, 213],\n",
       "   [231, 231, 223],\n",
       "   [186, 186, 178]],\n",
       "  [[232, 130,  81],\n",
       "   [233, 131,  82],\n",
       "   [233, 131,  82],\n",
       "   ...\n",
       "   [210, 211, 206],\n",
       "   [227, 226, 221],\n",
       "   [213, 213, 205]],\n",
       "  [[235, 133,  85],\n",
       "   [235, 133,  85],\n",
       "   [235, 133,  85],\n",
       "   ...\n",
       "   [204, 205, 200],\n",
       "   [219, 218, 213],\n",
       "   [240, 239, 234]],\n",
       "  ...\n",
       "  [[166, 167, 161],\n",
       "   [166, 167, 161],\n",
       "   [167, 168, 162],\n",
       "   ...\n",
       "   [192, 195, 176],\n",
       "   [188, 191, 172],\n",
       "   [182, 185, 166]],\n",
       "  [[167, 168, 162],\n",
       "   [168, 169, 163],\n",
       "   [168, 169, 163],\n",
       "   ...\n",
       "   [181, 184, 165],\n",
       "   [182, 185, 166],\n",
       "   [181, 184, 165]],\n",
       "  [[169, 170, 164],\n",
       "   [169, 170, 164],\n",
       "   [170, 171, 165],\n",
       "   ...\n",
       "   [167, 170, 151],\n",
       "   [170, 173, 154],\n",
       "   [173, 176, 157]]]),\n",
       " Tensor(shape=[], dtype=Int64, value= 1217)]"
      ]
     },
     "execution_count": 9,
     "metadata": {},
     "output_type": "execute_result"
    }
   ],
   "source": [
    "dataset_iter = dataset.create_tuple_iterator()\n",
    "next(dataset_iter)"
   ]
  },
  {
   "cell_type": "code",
   "execution_count": null,
   "id": "026b97b6-7056-4036-9531-bc0d1935c8af",
   "metadata": {},
   "outputs": [],
   "source": []
  }
 ],
 "metadata": {
  "kernelspec": {
   "display_name": "Python 3 (ipykernel)",
   "language": "python",
   "name": "python3"
  },
  "language_info": {
   "codemirror_mode": {
    "name": "ipython",
    "version": 3
   },
   "file_extension": ".py",
   "mimetype": "text/x-python",
   "name": "python",
   "nbconvert_exporter": "python",
   "pygments_lexer": "ipython3",
   "version": "3.7.5"
  }
 },
 "nbformat": 4,
 "nbformat_minor": 5
}
